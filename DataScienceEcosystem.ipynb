{
 "cells": [
  {
   "cell_type": "markdown",
   "id": "0995d45d",
   "metadata": {},
   "source": [
    "# Data Science Tools and Ecosystem"
   ]
  },
  {
   "cell_type": "markdown",
   "id": "09cd6db2",
   "metadata": {},
   "source": [
    "# Introduction\n",
    "\n",
    "Welcome to the DataScienceEcosystem.ipynb notebook! In this notebook, we will explore the tools and ecosystem of data science. Data science is an area of study that uses techniques from computer science, statistics, arithmetic, and industry expertise to extract knowledge and insights from data.\n",
    "Here we will cover various aspects of the data science ecosystem, including programming languages, libraries, frameworks, and tools commonly used by data scientists.\n",
    "Whether you are new to data science or already have some experience, this notebook will provide valuable insights into the tools and techniques used in the field. So let's get started and discover the fascinating field of data science.!\n"
   ]
  },
  {
   "cell_type": "markdown",
   "id": "9c827cba",
   "metadata": {},
   "source": [
    "**Objectives:**\n",
    "\n",
    "- Data Science Languages\n",
    "- Data Science Libraries\n",
    "- Data Science Tools\n",
    "- Arithmetic Operations\n",
    "- Convert minutes to hours"
   ]
  },
  {
   "cell_type": "markdown",
   "id": "1fe62b21",
   "metadata": {},
   "source": [
    "## Data Science Languages\n",
    "\n",
    "Some of the popular languages that Data Scientists use are:\n",
    "\n",
    "1. Python\n",
    "2. R\n",
    "3. SQL\n",
    "4. Julia\n",
    "\n",
    "Due to its simplicity, wide range of tools (including NumPy, Pandas, and scikit-learn), and supportive community, Python is one of the most popular programming languages in the data science industry. For data manipulation, analysis, and machine learning, it provides a wide range of capabilities.\n",
    "\n",
    "R is another popular language among data scientists, particularly in the realm of statistical analysis and visualization. It provides a wide range of packages such as dplyr, ggplot2, and caret that are specifically designed for data manipulation, statistical modeling, and data visualization.\n",
    "\n",
    "SQL stands for Structured Query Language. It is a programming language specifically designed for managing and manipulating relational databases. SQL provides a standardized way to interact with databases, allowing users to store, retrieve, modify, and delete data.\n",
    "\n",
    "The data science community has begun to take interest of Julia, a relatively new language that excels in terms of performance. It blends the Python programming language's simplicity with the speed of low-level languages like C and C++. With its selection of packages for scientific computing and data analysis, Julia is especially well-suited for jobs requiring a lot of processing.\n",
    "\n",
    "These are just a few examples of the languages commonly used in data science. Depending on the specific requirements and preferences of a project, data scientists may also use other languages like MATLAB, or Scala, among others.\n"
   ]
  },
  {
   "cell_type": "markdown",
   "id": "27ed6c68",
   "metadata": {},
   "source": [
    "## Data Science Libraries\n",
    "\n",
    "Some of the commonly used libraries used by Data Scientists include\n",
    "\n",
    "1. NumPy\n",
    "2. Pandas\n",
    "3. Matplotlib\n",
    "\n",
    "A key Python library for scientific computation is called NumPy. Large, multidimensional arrays and matrices are supported, and a range of mathematical operations are provided to effectively work with big arrays. The foundation of many other data science libraries is NumPy, which supports high-performance numerical calculations.\n",
    "\n",
    "Pandas is a robust library for data analysis and manipulation. For managing structured data, it offers simple-to-use data structures like DataFrame. You can efficiently import, clean, convert, and analyse data using Pandas. It has functions for data filtering, grouping, merging, and much more, making it a crucial tool for exploratory data analysis and data pretreatment.\n",
    "\n",
    "Matplotlib is a plotting library that allows you to create charts, histograms, scatter plots, and more. Matplotlib is widely used for data visualization and enables data scientists to communicate insights easily.\n",
    "\n",
    "In addition to these libraries, there are many other powerful libraries in the data science ecosystem, such as scikit-learn for machine learning, TensorFlow and PyTorch for deep learning, seaborn for advanced visualizations, and spaCy for natural language processing."
   ]
  },
  {
   "cell_type": "markdown",
   "id": "599a6d72",
   "metadata": {},
   "source": [
    "| Data Science Tools     |\n",
    "|------------------------|\n",
    "| Jupyter Notebook       |\n",
    "| RStudio                |\n",
    "| PyCharm                |\n"
   ]
  },
  {
   "cell_type": "markdown",
   "id": "22d3be64",
   "metadata": {},
   "source": [
    "### Below are a few examples of evaluating arithmetic expressions in Python\n",
    "Arithmetic operations are mathematical calculations that involves numbers and operators. They can be simple or complex, and are commonly used in various programming languages and data analysis tasks. Here are a few examples of arithmetic expressions:\n",
    "\n",
    "| Expression             | Result |\n",
    "|------------------------|--------|\n",
    "| 5 + 7                  | 12     |\n",
    "| 10 - 5                 | 5      |\n",
    "| 2 * 3                  | 6      |\n",
    "| 12 / 3                 | 4      |\n",
    "| (4 + 6) * 2            | 20     |\n",
    "\n",
    "In above table expression is the arthimetic calculation and the results are displayed in the result column.\n"
   ]
  },
  {
   "cell_type": "code",
   "execution_count": 7,
   "id": "b11a2328",
   "metadata": {},
   "outputs": [
    {
     "data": {
      "text/plain": [
       "40"
      ]
     },
     "execution_count": 7,
     "metadata": {},
     "output_type": "execute_result"
    }
   ],
   "source": [
    "# Multiply two numbers and then add it with other number\n",
    "\n",
    "(5*6)+10\n",
    "\n",
    "\n"
   ]
  },
  {
   "cell_type": "code",
   "execution_count": 8,
   "id": "a5d46715",
   "metadata": {},
   "outputs": [
    {
     "data": {
      "text/plain": [
       "3.3333333333333335"
      ]
     },
     "execution_count": 8,
     "metadata": {},
     "output_type": "execute_result"
    }
   ],
   "source": [
    "# converting 200 minutes into hours\n",
    "minutes = 200\n",
    "hours = minutes / 60\n",
    "hours"
   ]
  },
  {
   "cell_type": "markdown",
   "id": "bebe4c8c",
   "metadata": {},
   "source": [
    "## Author\n",
    "Megha Ann Mathew"
   ]
  },
  {
   "cell_type": "code",
   "execution_count": null,
   "id": "dd80ca41",
   "metadata": {},
   "outputs": [],
   "source": []
  }
 ],
 "metadata": {
  "kernelspec": {
   "display_name": "Python 3 (ipykernel)",
   "language": "python",
   "name": "python3"
  },
  "language_info": {
   "codemirror_mode": {
    "name": "ipython",
    "version": 3
   },
   "file_extension": ".py",
   "mimetype": "text/x-python",
   "name": "python",
   "nbconvert_exporter": "python",
   "pygments_lexer": "ipython3",
   "version": "3.9.12"
  }
 },
 "nbformat": 4,
 "nbformat_minor": 5
}
